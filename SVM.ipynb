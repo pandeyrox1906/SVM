{
 "cells": [
  {
   "cell_type": "markdown",
   "id": "2ac15e11",
   "metadata": {},
   "source": [
    "# Praduman Pandey             19BCE0208"
   ]
  },
  {
   "cell_type": "raw",
   "id": "490457e9",
   "metadata": {},
   "source": [
    "# Train SVM classifier using sklearn digits dataset (i.e. from sklearn.datasets import load_digits) and then\n",
    "# 1. Measure the accuracy of your model using different kernels such as RBF, poly, and linear.\n",
    "# 2. Use 80% of samples as training data size."
   ]
  },
  {
   "cell_type": "code",
   "execution_count": 2,
   "id": "09206af8",
   "metadata": {},
   "outputs": [],
   "source": [
    "import pandas as pd\n",
    "import seaborn as sns\n",
    "import numpy as np\n",
    "import matplotlib.pyplot as plt\n",
    "plt.style.use('ggplot')\n",
    "from sklearn import metrics\n",
    "from sklearn.metrics import plot_confusion_matrix"
   ]
  },
  {
   "cell_type": "code",
   "execution_count": 3,
   "id": "d7e6a9bd",
   "metadata": {},
   "outputs": [],
   "source": [
    "dftrain=pd.read_csv('pulsar_data_train.csv')\n",
    "dftest=pd.read_csv('pulsar_data_test.csv')"
   ]
  },
  {
   "cell_type": "code",
   "execution_count": 4,
   "id": "bf59b36b",
   "metadata": {},
   "outputs": [
    {
     "data": {
      "text/plain": [
       "((12528, 9), (5370, 9))"
      ]
     },
     "execution_count": 4,
     "metadata": {},
     "output_type": "execute_result"
    }
   ],
   "source": [
    "dftrain.shape, dftest.shape"
   ]
  },
  {
   "cell_type": "code",
   "execution_count": 5,
   "id": "b5156b71",
   "metadata": {},
   "outputs": [
    {
     "name": "stdout",
     "output_type": "stream",
     "text": [
      "<class 'pandas.core.frame.DataFrame'>\n",
      "RangeIndex: 12528 entries, 0 to 12527\n",
      "Data columns (total 9 columns):\n",
      " #   Column                                         Non-Null Count  Dtype  \n",
      "---  ------                                         --------------  -----  \n",
      " 0    Mean of the integrated profile                12528 non-null  float64\n",
      " 1    Standard deviation of the integrated profile  12528 non-null  float64\n",
      " 2    Excess kurtosis of the integrated profile     10793 non-null  float64\n",
      " 3    Skewness of the integrated profile            12528 non-null  float64\n",
      " 4    Mean of the DM-SNR curve                      12528 non-null  float64\n",
      " 5    Standard deviation of the DM-SNR curve        11350 non-null  float64\n",
      " 6    Excess kurtosis of the DM-SNR curve           12528 non-null  float64\n",
      " 7    Skewness of the DM-SNR curve                  11903 non-null  float64\n",
      " 8   target_class                                   12528 non-null  float64\n",
      "dtypes: float64(9)\n",
      "memory usage: 881.0 KB\n"
     ]
    }
   ],
   "source": [
    "dftrain.info()"
   ]
  },
  {
   "cell_type": "code",
   "execution_count": 6,
   "id": "8319b7ce",
   "metadata": {},
   "outputs": [
    {
     "data": {
      "text/html": [
       "<div>\n",
       "<style scoped>\n",
       "    .dataframe tbody tr th:only-of-type {\n",
       "        vertical-align: middle;\n",
       "    }\n",
       "\n",
       "    .dataframe tbody tr th {\n",
       "        vertical-align: top;\n",
       "    }\n",
       "\n",
       "    .dataframe thead th {\n",
       "        text-align: right;\n",
       "    }\n",
       "</style>\n",
       "<table border=\"1\" class=\"dataframe\">\n",
       "  <thead>\n",
       "    <tr style=\"text-align: right;\">\n",
       "      <th></th>\n",
       "      <th>Mean of the integrated profile</th>\n",
       "      <th>Standard deviation of the integrated profile</th>\n",
       "      <th>Excess kurtosis of the integrated profile</th>\n",
       "      <th>Skewness of the integrated profile</th>\n",
       "      <th>Mean of the DM-SNR curve</th>\n",
       "      <th>Standard deviation of the DM-SNR curve</th>\n",
       "      <th>Excess kurtosis of the DM-SNR curve</th>\n",
       "      <th>Skewness of the DM-SNR curve</th>\n",
       "      <th>target_class</th>\n",
       "    </tr>\n",
       "  </thead>\n",
       "  <tbody>\n",
       "    <tr>\n",
       "      <th>0</th>\n",
       "      <td>121.156250</td>\n",
       "      <td>48.372971</td>\n",
       "      <td>0.375485</td>\n",
       "      <td>-0.013165</td>\n",
       "      <td>3.168896</td>\n",
       "      <td>18.399367</td>\n",
       "      <td>7.449874</td>\n",
       "      <td>65.159298</td>\n",
       "      <td>0.0</td>\n",
       "    </tr>\n",
       "    <tr>\n",
       "      <th>1</th>\n",
       "      <td>76.968750</td>\n",
       "      <td>36.175557</td>\n",
       "      <td>0.712898</td>\n",
       "      <td>3.388719</td>\n",
       "      <td>2.399666</td>\n",
       "      <td>17.570997</td>\n",
       "      <td>9.414652</td>\n",
       "      <td>102.722975</td>\n",
       "      <td>0.0</td>\n",
       "    </tr>\n",
       "    <tr>\n",
       "      <th>2</th>\n",
       "      <td>130.585938</td>\n",
       "      <td>53.229534</td>\n",
       "      <td>0.133408</td>\n",
       "      <td>-0.297242</td>\n",
       "      <td>2.743311</td>\n",
       "      <td>22.362553</td>\n",
       "      <td>8.508364</td>\n",
       "      <td>74.031324</td>\n",
       "      <td>0.0</td>\n",
       "    </tr>\n",
       "    <tr>\n",
       "      <th>3</th>\n",
       "      <td>156.398438</td>\n",
       "      <td>48.865942</td>\n",
       "      <td>-0.215989</td>\n",
       "      <td>-0.171294</td>\n",
       "      <td>17.471572</td>\n",
       "      <td>NaN</td>\n",
       "      <td>2.958066</td>\n",
       "      <td>7.197842</td>\n",
       "      <td>0.0</td>\n",
       "    </tr>\n",
       "    <tr>\n",
       "      <th>4</th>\n",
       "      <td>84.804688</td>\n",
       "      <td>36.117659</td>\n",
       "      <td>0.825013</td>\n",
       "      <td>3.274125</td>\n",
       "      <td>2.790134</td>\n",
       "      <td>20.618009</td>\n",
       "      <td>8.405008</td>\n",
       "      <td>76.291128</td>\n",
       "      <td>0.0</td>\n",
       "    </tr>\n",
       "  </tbody>\n",
       "</table>\n",
       "</div>"
      ],
      "text/plain": [
       "    Mean of the integrated profile  \\\n",
       "0                       121.156250   \n",
       "1                        76.968750   \n",
       "2                       130.585938   \n",
       "3                       156.398438   \n",
       "4                        84.804688   \n",
       "\n",
       "    Standard deviation of the integrated profile  \\\n",
       "0                                      48.372971   \n",
       "1                                      36.175557   \n",
       "2                                      53.229534   \n",
       "3                                      48.865942   \n",
       "4                                      36.117659   \n",
       "\n",
       "    Excess kurtosis of the integrated profile  \\\n",
       "0                                    0.375485   \n",
       "1                                    0.712898   \n",
       "2                                    0.133408   \n",
       "3                                   -0.215989   \n",
       "4                                    0.825013   \n",
       "\n",
       "    Skewness of the integrated profile   Mean of the DM-SNR curve  \\\n",
       "0                            -0.013165                   3.168896   \n",
       "1                             3.388719                   2.399666   \n",
       "2                            -0.297242                   2.743311   \n",
       "3                            -0.171294                  17.471572   \n",
       "4                             3.274125                   2.790134   \n",
       "\n",
       "    Standard deviation of the DM-SNR curve  \\\n",
       "0                                18.399367   \n",
       "1                                17.570997   \n",
       "2                                22.362553   \n",
       "3                                      NaN   \n",
       "4                                20.618009   \n",
       "\n",
       "    Excess kurtosis of the DM-SNR curve   Skewness of the DM-SNR curve  \\\n",
       "0                              7.449874                      65.159298   \n",
       "1                              9.414652                     102.722975   \n",
       "2                              8.508364                      74.031324   \n",
       "3                              2.958066                       7.197842   \n",
       "4                              8.405008                      76.291128   \n",
       "\n",
       "   target_class  \n",
       "0           0.0  \n",
       "1           0.0  \n",
       "2           0.0  \n",
       "3           0.0  \n",
       "4           0.0  "
      ]
     },
     "execution_count": 6,
     "metadata": {},
     "output_type": "execute_result"
    }
   ],
   "source": [
    "dftrain.head()"
   ]
  },
  {
   "cell_type": "code",
   "execution_count": 7,
   "id": "e4c7edc0",
   "metadata": {},
   "outputs": [
    {
     "data": {
      "text/plain": [
       " Mean of the integrated profile                     0\n",
       " Standard deviation of the integrated profile       0\n",
       " Excess kurtosis of the integrated profile       1735\n",
       " Skewness of the integrated profile                 0\n",
       " Mean of the DM-SNR curve                           0\n",
       " Standard deviation of the DM-SNR curve          1178\n",
       " Excess kurtosis of the DM-SNR curve                0\n",
       " Skewness of the DM-SNR curve                     625\n",
       "target_class                                        0\n",
       "dtype: int64"
      ]
     },
     "execution_count": 7,
     "metadata": {},
     "output_type": "execute_result"
    }
   ],
   "source": [
    "dftrain.isnull().sum()"
   ]
  },
  {
   "cell_type": "code",
   "execution_count": 8,
   "id": "c4642b4a",
   "metadata": {},
   "outputs": [
    {
     "name": "stdout",
     "output_type": "stream",
     "text": [
      "13.848978288633463\n"
     ]
    }
   ],
   "source": [
    "print((1735/dftrain.shape[0])*100)"
   ]
  },
  {
   "cell_type": "code",
   "execution_count": 9,
   "id": "adb3412c",
   "metadata": {},
   "outputs": [],
   "source": [
    "dftrain.columns = dftrain.columns.str.strip()"
   ]
  },
  {
   "cell_type": "code",
   "execution_count": 10,
   "id": "2c30780f",
   "metadata": {},
   "outputs": [
    {
     "data": {
      "text/plain": [
       "<AxesSubplot:ylabel='Density'>"
      ]
     },
     "execution_count": 10,
     "metadata": {},
     "output_type": "execute_result"
    },
    {
     "data": {
      "image/png": "[encoded data removed]",
      "text/plain": [
       "<Figure size 432x288 with 1 Axes>"
      ]
     },
     "metadata": {},
     "output_type": "display_data"
    }
   ],
   "source": [
    "ax = dftrain['Excess kurtosis of the integrated profile'].hist(bins=15, density=True, stacked=True)\n",
    "dftrain['Excess kurtosis of the integrated profile'].plot(kind='density', color='teal')\n"
   ]
  },
  {
   "cell_type": "code",
   "execution_count": 11,
   "id": "9501d7d8",
   "metadata": {},
   "outputs": [],
   "source": [
    "dftrain['Excess kurtosis of the integrated profile'].fillna(dftrain['Excess kurtosis of the integrated profile'].mean(),inplace=True)"
   ]
  },
  {
   "cell_type": "code",
   "execution_count": 12,
   "id": "aea689bc",
   "metadata": {},
   "outputs": [
    {
     "data": {
      "text/plain": [
       "0"
      ]
     },
     "execution_count": 12,
     "metadata": {},
     "output_type": "execute_result"
    }
   ],
   "source": [
    "dftrain['Excess kurtosis of the integrated profile'].isnull().sum()"
   ]
  },
  {
   "cell_type": "code",
   "execution_count": 13,
   "id": "f141537b",
   "metadata": {},
   "outputs": [
    {
     "data": {
      "text/plain": [
       "<AxesSubplot:ylabel='Density'>"
      ]
     },
     "execution_count": 13,
     "metadata": {},
     "output_type": "execute_result"
    },
    {
     "data": {
      "image/png": "[encoded data removed]",
      "text/plain": [
       "<Figure size 432x288 with 1 Axes>"
      ]
     },
     "metadata": {},
     "output_type": "display_data"
    }
   ],
   "source": [
    "bx = dftrain['Standard deviation of the DM-SNR curve'].hist(bins=15, density=True, stacked=True)\n",
    "dftrain['Standard deviation of the DM-SNR curve'].plot(kind='density', color='teal')"
   ]
  },
  {
   "cell_type": "code",
   "execution_count": 14,
   "id": "de6ff7cd",
   "metadata": {},
   "outputs": [],
   "source": [
    "dftrain['Standard deviation of the DM-SNR curve'].fillna(dftrain['Standard deviation of the DM-SNR curve'].median(),inplace=True)"
   ]
  },
  {
   "cell_type": "code",
   "execution_count": 15,
   "id": "250c016b",
   "metadata": {},
   "outputs": [
    {
     "data": {
      "text/plain": [
       "0"
      ]
     },
     "execution_count": 15,
     "metadata": {},
     "output_type": "execute_result"
    }
   ],
   "source": [
    "dftrain['Standard deviation of the DM-SNR curve'].isnull().sum()"
   ]
  },
  {
   "cell_type": "code",
   "execution_count": 16,
   "id": "ba46697a",
   "metadata": {},
   "outputs": [
    {
     "data": {
      "text/plain": [
       "4.988825031928481"
      ]
     },
     "execution_count": 16,
     "metadata": {},
     "output_type": "execute_result"
    }
   ],
   "source": [
    "(dftrain['Skewness of the DM-SNR curve'].isnull().sum()/dftrain.shape[0])*100"
   ]
  },
  {
   "cell_type": "code",
   "execution_count": 17,
   "id": "392bfdb3",
   "metadata": {},
   "outputs": [
    {
     "data": {
      "text/plain": [
       "<AxesSubplot:ylabel='Density'>"
      ]
     },
     "execution_count": 17,
     "metadata": {},
     "output_type": "execute_result"
    },
    {
     "data": {
      "image/png": "[encoded data removed]",
      "text/plain": [
       "<Figure size 432x288 with 1 Axes>"
      ]
     },
     "metadata": {},
     "output_type": "display_data"
    }
   ],
   "source": [
    "cx = dftrain['Skewness of the DM-SNR curve'].hist(bins=15, density=True, stacked=True)\n",
    "dftrain['Skewness of the DM-SNR curve'].plot(kind='density', color='teal')"
   ]
  },
  {
   "cell_type": "code",
   "execution_count": 18,
   "id": "8333bfd6",
   "metadata": {},
   "outputs": [],
   "source": [
    "dftrain['Skewness of the DM-SNR curve'].fillna(dftrain['Skewness of the DM-SNR curve'].median(),inplace=True)"
   ]
  },
  {
   "cell_type": "code",
   "execution_count": 19,
   "id": "ae1b3eed",
   "metadata": {},
   "outputs": [
    {
     "data": {
      "text/plain": [
       "Mean of the integrated profile                  0\n",
       "Standard deviation of the integrated profile    0\n",
       "Excess kurtosis of the integrated profile       0\n",
       "Skewness of the integrated profile              0\n",
       "Mean of the DM-SNR curve                        0\n",
       "Standard deviation of the DM-SNR curve          0\n",
       "Excess kurtosis of the DM-SNR curve             0\n",
       "Skewness of the DM-SNR curve                    0\n",
       "target_class                                    0\n",
       "dtype: int64"
      ]
     },
     "execution_count": 19,
     "metadata": {},
     "output_type": "execute_result"
    }
   ],
   "source": [
    "dftrain.isnull().sum()"
   ]
  },
  {
   "cell_type": "code",
   "execution_count": 20,
   "id": "48ab7def",
   "metadata": {},
   "outputs": [
    {
     "data": {
      "text/plain": [
       "Text(0, 0.5, '')"
      ]
     },
     "execution_count": 20,
     "metadata": {},
     "output_type": "execute_result"
    },
    {
     "data": {
      "image/png": "[encoded data removed]",
      "text/plain": [
       "<Figure size 2160x1800 with 8 Axes>"
      ]
     },
     "metadata": {},
     "output_type": "display_data"
    }
   ],
   "source": [
    "plt.figure(figsize=(30,25))\n",
    "\n",
    "plt.subplot(4,2,1)\n",
    "a=dftrain.boxplot(column='Mean of the integrated profile')\n",
    "a.set_title('MIP')\n",
    "a.set_xlabel('')\n",
    "a.set_ylabel('')\n",
    "\n",
    "plt.subplot(4,2,2)\n",
    "a=dftrain.boxplot(column='Standard deviation of the integrated profile')\n",
    "a.set_title('SDIP')\n",
    "a.set_xlabel('')\n",
    "a.set_ylabel('')\n",
    "\n",
    "plt.subplot(4,2,3)\n",
    "a=dftrain.boxplot(column='Excess kurtosis of the integrated profile')\n",
    "a.set_title('EXIP')\n",
    "a.set_xlabel('')\n",
    "a.set_ylabel('')\n",
    "\n",
    "plt.subplot(4,2,4)\n",
    "a=dftrain.boxplot(column='Mean of the DM-SNR curve')\n",
    "a.set_title('M DM-SNR C')\n",
    "a.set_xlabel('')\n",
    "a.set_ylabel('')\n",
    "\n",
    "plt.subplot(4,2,5)\n",
    "a=dftrain.boxplot(column='Skewness of the integrated profile')\n",
    "a.set_title('SIP')\n",
    "a.set_xlabel('')\n",
    "a.set_ylabel('')\n",
    "\n",
    "plt.subplot(4,2,6)\n",
    "a=dftrain.boxplot(column='Standard deviation of the DM-SNR curve')\n",
    "a.set_title('SD DM-SNR C')\n",
    "a.set_xlabel('')\n",
    "a.set_ylabel('')\n",
    "\n",
    "plt.subplot(4,2,7)\n",
    "a=dftrain.boxplot(column='Excess kurtosis of the DM-SNR curve')\n",
    "a.set_title('EK DM-SNR C ')\n",
    "a.set_xlabel('')\n",
    "a.set_ylabel('')\n",
    "\n",
    "plt.subplot(4,2,8)\n",
    "a=dftrain.boxplot(column='Skewness of the DM-SNR curve')\n",
    "a.set_title('S DM-SNR C ')\n",
    "a.set_xlabel('')\n",
    "a.set_ylabel('')\n",
    "\n"
   ]
  },
  {
   "cell_type": "code",
   "execution_count": 21,
   "id": "37f84163",
   "metadata": {},
   "outputs": [],
   "source": [
    "from sklearn.model_selection import train_test_split"
   ]
  },
  {
   "cell_type": "code",
   "execution_count": 22,
   "id": "3d731baf",
   "metadata": {},
   "outputs": [],
   "source": [
    "x=dftrain.drop('target_class',axis=1)\n",
    "y=dftrain['target_class']\n",
    "xtrain,xtest, ytrain, ytest = train_test_split(x, y, test_size = 0.2, random_state = 0)"
   ]
  },
  {
   "cell_type": "code",
   "execution_count": 23,
   "id": "33642571",
   "metadata": {},
   "outputs": [
    {
     "data": {
      "text/plain": [
       "((10022, 8), (2506, 8))"
      ]
     },
     "execution_count": 23,
     "metadata": {},
     "output_type": "execute_result"
    }
   ],
   "source": [
    "xtrain.shape, xtest.shape"
   ]
  },
  {
   "cell_type": "code",
   "execution_count": 24,
   "id": "9246004e",
   "metadata": {},
   "outputs": [],
   "source": [
    "cols=xtrain.columns\n",
    "from sklearn.preprocessing import StandardScaler\n",
    "scaler=StandardScaler()\n",
    "xtrain=scaler.fit_transform(xtrain)\n",
    "xtest=scaler.transform(xtest)\n",
    "\n",
    "xtrain=pd.DataFrame(xtrain, columns=[cols])\n",
    "xtest=pd.DataFrame(xtest, columns=[cols])\n"
   ]
  },
  {
   "cell_type": "code",
   "execution_count": 25,
   "id": "f55a8ec9",
   "metadata": {},
   "outputs": [
    {
     "data": {
      "text/html": [
       "<div>\n",
       "<style scoped>\n",
       "    .dataframe tbody tr th:only-of-type {\n",
       "        vertical-align: middle;\n",
       "    }\n",
       "\n",
       "    .dataframe tbody tr th {\n",
       "        vertical-align: top;\n",
       "    }\n",
       "\n",
       "    .dataframe thead tr th {\n",
       "        text-align: left;\n",
       "    }\n",
       "</style>\n",
       "<table border=\"1\" class=\"dataframe\">\n",
       "  <thead>\n",
       "    <tr>\n",
       "      <th></th>\n",
       "      <th>Mean of the integrated profile</th>\n",
       "      <th>Standard deviation of the integrated profile</th>\n",
       "      <th>Excess kurtosis of the integrated profile</th>\n",
       "      <th>Skewness of the integrated profile</th>\n",
       "      <th>Mean of the DM-SNR curve</th>\n",
       "      <th>Standard deviation of the DM-SNR curve</th>\n",
       "      <th>Excess kurtosis of the DM-SNR curve</th>\n",
       "      <th>Skewness of the DM-SNR curve</th>\n",
       "    </tr>\n",
       "  </thead>\n",
       "  <tbody>\n",
       "    <tr>\n",
       "      <th>count</th>\n",
       "      <td>1.002200e+04</td>\n",
       "      <td>1.002200e+04</td>\n",
       "      <td>1.002200e+04</td>\n",
       "      <td>1.002200e+04</td>\n",
       "      <td>1.002200e+04</td>\n",
       "      <td>1.002200e+04</td>\n",
       "      <td>1.002200e+04</td>\n",
       "      <td>1.002200e+04</td>\n",
       "    </tr>\n",
       "    <tr>\n",
       "      <th>mean</th>\n",
       "      <td>-2.459299e-16</td>\n",
       "      <td>-7.557537e-16</td>\n",
       "      <td>-1.001771e-16</td>\n",
       "      <td>-3.175468e-17</td>\n",
       "      <td>-3.442722e-17</td>\n",
       "      <td>-3.279323e-17</td>\n",
       "      <td>-1.339313e-16</td>\n",
       "      <td>1.089951e-16</td>\n",
       "    </tr>\n",
       "    <tr>\n",
       "      <th>std</th>\n",
       "      <td>1.000050e+00</td>\n",
       "      <td>1.000050e+00</td>\n",
       "      <td>1.000050e+00</td>\n",
       "      <td>1.000050e+00</td>\n",
       "      <td>1.000050e+00</td>\n",
       "      <td>1.000050e+00</td>\n",
       "      <td>1.000050e+00</td>\n",
       "      <td>1.000050e+00</td>\n",
       "    </tr>\n",
       "    <tr>\n",
       "      <th>min</th>\n",
       "      <td>-4.059253e+00</td>\n",
       "      <td>-3.121855e+00</td>\n",
       "      <td>-2.221072e+00</td>\n",
       "      <td>-5.703669e-01</td>\n",
       "      <td>-4.225211e-01</td>\n",
       "      <td>-9.679603e-01</td>\n",
       "      <td>-2.526379e+00</td>\n",
       "      <td>-1.014557e+00</td>\n",
       "    </tr>\n",
       "    <tr>\n",
       "      <th>25%</th>\n",
       "      <td>-3.943394e-01</td>\n",
       "      <td>-6.101706e-01</td>\n",
       "      <td>-4.261366e-01</td>\n",
       "      <td>-3.175801e-01</td>\n",
       "      <td>-3.653436e-01</td>\n",
       "      <td>-5.767818e-01</td>\n",
       "      <td>-5.589324e-01</td>\n",
       "      <td>-6.338157e-01</td>\n",
       "    </tr>\n",
       "    <tr>\n",
       "      <th>50%</th>\n",
       "      <td>1.619199e-01</td>\n",
       "      <td>5.986146e-02</td>\n",
       "      <td>-1.916573e-01</td>\n",
       "      <td>-2.549120e-01</td>\n",
       "      <td>-3.355278e-01</td>\n",
       "      <td>-3.831715e-01</td>\n",
       "      <td>2.442155e-02</td>\n",
       "      <td>-2.028493e-01</td>\n",
       "    </tr>\n",
       "    <tr>\n",
       "      <th>75%</th>\n",
       "      <td>6.265131e-01</td>\n",
       "      <td>6.579129e-01</td>\n",
       "      <td>-6.261144e-03</td>\n",
       "      <td>-1.397269e-01</td>\n",
       "      <td>-2.459675e-01</td>\n",
       "      <td>5.550782e-02</td>\n",
       "      <td>5.276848e-01</td>\n",
       "      <td>2.991024e-01</td>\n",
       "    </tr>\n",
       "    <tr>\n",
       "      <th>max</th>\n",
       "      <td>3.045294e+00</td>\n",
       "      <td>6.647182e+00</td>\n",
       "      <td>7.578695e+00</td>\n",
       "      <td>1.045442e+01</td>\n",
       "      <td>7.074053e+00</td>\n",
       "      <td>4.501370e+00</td>\n",
       "      <td>5.769814e+00</td>\n",
       "      <td>1.036396e+01</td>\n",
       "    </tr>\n",
       "  </tbody>\n",
       "</table>\n",
       "</div>"
      ],
      "text/plain": [
       "      Mean of the integrated profile  \\\n",
       "count                   1.002200e+04   \n",
       "mean                   -2.459299e-16   \n",
       "std                     1.000050e+00   \n",
       "min                    -4.059253e+00   \n",
       "25%                    -3.943394e-01   \n",
       "50%                     1.619199e-01   \n",
       "75%                     6.265131e-01   \n",
       "max                     3.045294e+00   \n",
       "\n",
       "      Standard deviation of the integrated profile  \\\n",
       "count                                 1.002200e+04   \n",
       "mean                                 -7.557537e-16   \n",
       "std                                   1.000050e+00   \n",
       "min                                  -3.121855e+00   \n",
       "25%                                  -6.101706e-01   \n",
       "50%                                   5.986146e-02   \n",
       "75%                                   6.579129e-01   \n",
       "max                                   6.647182e+00   \n",
       "\n",
       "      Excess kurtosis of the integrated profile  \\\n",
       "count                              1.002200e+04   \n",
       "mean                              -1.001771e-16   \n",
       "std                                1.000050e+00   \n",
       "min                               -2.221072e+00   \n",
       "25%                               -4.261366e-01   \n",
       "50%                               -1.916573e-01   \n",
       "75%                               -6.261144e-03   \n",
       "max                                7.578695e+00   \n",
       "\n",
       "      Skewness of the integrated profile Mean of the DM-SNR curve  \\\n",
       "count                       1.002200e+04             1.002200e+04   \n",
       "mean                       -3.175468e-17            -3.442722e-17   \n",
       "std                         1.000050e+00             1.000050e+00   \n",
       "min                        -5.703669e-01            -4.225211e-01   \n",
       "25%                        -3.175801e-01            -3.653436e-01   \n",
       "50%                        -2.549120e-01            -3.355278e-01   \n",
       "75%                        -1.397269e-01            -2.459675e-01   \n",
       "max                         1.045442e+01             7.074053e+00   \n",
       "\n",
       "      Standard deviation of the DM-SNR curve  \\\n",
       "count                           1.002200e+04   \n",
       "mean                           -3.279323e-17   \n",
       "std                             1.000050e+00   \n",
       "min                            -9.679603e-01   \n",
       "25%                            -5.767818e-01   \n",
       "50%                            -3.831715e-01   \n",
       "75%                             5.550782e-02   \n",
       "max                             4.501370e+00   \n",
       "\n",
       "      Excess kurtosis of the DM-SNR curve Skewness of the DM-SNR curve  \n",
       "count                        1.002200e+04                 1.002200e+04  \n",
       "mean                        -1.339313e-16                 1.089951e-16  \n",
       "std                          1.000050e+00                 1.000050e+00  \n",
       "min                         -2.526379e+00                -1.014557e+00  \n",
       "25%                         -5.589324e-01                -6.338157e-01  \n",
       "50%                          2.442155e-02                -2.028493e-01  \n",
       "75%                          5.276848e-01                 2.991024e-01  \n",
       "max                          5.769814e+00                 1.036396e+01  "
      ]
     },
     "execution_count": 25,
     "metadata": {},
     "output_type": "execute_result"
    }
   ],
   "source": [
    "xtrain.describe()"
   ]
  },
  {
   "cell_type": "code",
   "execution_count": 26,
   "id": "fe688cd4",
   "metadata": {},
   "outputs": [
    {
     "name": "stdout",
     "output_type": "stream",
     "text": [
      "0.9796488427773344\n"
     ]
    }
   ],
   "source": [
    "from sklearn.svm import SVC\n",
    "from sklearn.metrics import accuracy_score\n",
    "\n",
    "svc=SVC()\n",
    "svc.fit(xtrain,ytrain)\n",
    "\n",
    "ypred=svc.predict(xtest)\n",
    "\n",
    "print(accuracy_score(ytest, ypred))"
   ]
  },
  {
   "cell_type": "code",
   "execution_count": 27,
   "id": "bf8e4076",
   "metadata": {},
   "outputs": [
    {
     "name": "stdout",
     "output_type": "stream",
     "text": [
      "0.9796488427773344\n"
     ]
    }
   ],
   "source": [
    "svc=SVC(C=100)\n",
    "svc.fit(xtrain,ytrain)\n",
    "\n",
    "ypred=svc.predict(xtest)\n",
    "\n",
    "print(accuracy_score(ytest, ypred))"
   ]
  },
  {
   "cell_type": "code",
   "execution_count": 28,
   "id": "beed5034",
   "metadata": {},
   "outputs": [
    {
     "name": "stdout",
     "output_type": "stream",
     "text": [
      "0.9808459696727854\n"
     ]
    }
   ],
   "source": [
    "svc=SVC(C=1000)\n",
    "svc.fit(xtrain,ytrain)\n",
    "\n",
    "ypred=svc.predict(xtest)\n",
    "\n",
    "print(accuracy_score(ytest, ypred))"
   ]
  },
  {
   "cell_type": "code",
   "execution_count": 29,
   "id": "f6ed2ff4",
   "metadata": {},
   "outputs": [
    {
     "name": "stdout",
     "output_type": "stream",
     "text": [
      "0.9780526735833999\n"
     ]
    }
   ],
   "source": [
    "linear_svc=SVC(kernel='linear',C=1)\n",
    "linear_svc.fit(xtrain,ytrain)\n",
    "\n",
    "ypred=linear_svc.predict(xtest)\n",
    "\n",
    "print(accuracy_score(ytest, ypred))"
   ]
  },
  {
   "cell_type": "code",
   "execution_count": 30,
   "id": "44430104",
   "metadata": {},
   "outputs": [
    {
     "name": "stdout",
     "output_type": "stream",
     "text": [
      "0.9780526735833999\n"
     ]
    }
   ],
   "source": [
    "linear_svc=SVC(kernel='linear',C=1000)\n",
    "linear_svc.fit(xtrain,ytrain)\n",
    "\n",
    "ypred=linear_svc.predict(xtest)\n",
    "\n",
    "print(accuracy_score(ytest, ypred))"
   ]
  },
  {
   "cell_type": "code",
   "execution_count": 31,
   "id": "1eea0b90",
   "metadata": {},
   "outputs": [
    {
     "name": "stdout",
     "output_type": "stream",
     "text": [
      "0.9755537816803034\n",
      "0.9780526735833999\n"
     ]
    }
   ],
   "source": [
    "print(linear_svc.score(xtrain,ytrain))\n",
    "print(linear_svc.score(xtest,ytest))"
   ]
  },
  {
   "cell_type": "code",
   "execution_count": 32,
   "id": "60704a9b",
   "metadata": {},
   "outputs": [
    {
     "name": "stdout",
     "output_type": "stream",
     "text": [
      "Confusion matrix\n",
      "\n",
      " [[2277    8]\n",
      " [  47  174]]\n",
      "\n",
      "True Positives =  2277\n",
      "\n",
      "True Negatives =  174\n",
      "\n",
      "False Positives =  8\n",
      "\n",
      "False Negatives =  47\n"
     ]
    }
   ],
   "source": [
    "from sklearn.metrics import confusion_matrix\n",
    "\n",
    "cm=confusion_matrix(ytest,ypred)\n",
    "\n",
    "print('Confusion matrix\\n\\n', cm)\n",
    "\n",
    "print('\\nTrue Positives = ', cm[0,0])\n",
    "\n",
    "print('\\nTrue Negatives = ', cm[1,1])\n",
    "\n",
    "print('\\nFalse Positives = ', cm[0,1])\n",
    "\n",
    "print('\\nFalse Negatives = ', cm[1,0])"
   ]
  },
  {
   "cell_type": "code",
   "execution_count": 33,
   "id": "1ca0d6b7",
   "metadata": {},
   "outputs": [
    {
     "name": "stdout",
     "output_type": "stream",
     "text": [
      "              precision    recall  f1-score   support\n",
      "\n",
      "         0.0       0.98      1.00      0.99      2285\n",
      "         1.0       0.96      0.79      0.86       221\n",
      "\n",
      "    accuracy                           0.98      2506\n",
      "   macro avg       0.97      0.89      0.93      2506\n",
      "weighted avg       0.98      0.98      0.98      2506\n",
      "\n"
     ]
    }
   ],
   "source": [
    "from sklearn.metrics import classification_report\n",
    "\n",
    "print(classification_report(ytest,ypred))"
   ]
  },
  {
   "cell_type": "code",
   "execution_count": null,
   "id": "21a97797",
   "metadata": {},
   "outputs": [],
   "source": []
  }
 ],
 "metadata": {
  "kernelspec": {
   "display_name": "Python 3 (ipykernel)",
   "language": "python",
   "name": "python3"
  },
  "language_info": {
   "codemirror_mode": {
    "name": "ipython",
    "version": 3
   },
   "file_extension": ".py",
   "mimetype": "text/x-python",
   "name": "python",
   "nbconvert_exporter": "python",
   "pygments_lexer": "ipython3",
   "version": "3.9.7"
  }
 },
 "nbformat": 4,
 "nbformat_minor": 5
}
